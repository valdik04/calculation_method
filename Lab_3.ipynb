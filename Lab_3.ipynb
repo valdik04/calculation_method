{
 "cells": [
  {
   "cell_type": "markdown",
   "id": "3204183b",
   "metadata": {},
   "source": [
    "# Задача 3. Вариант 16\n",
    "# Клочков Владислав, 342 группа"
   ]
  },
  {
   "cell_type": "code",
   "execution_count": 54,
   "id": "78d4a5c3",
   "metadata": {},
   "outputs": [],
   "source": [
    "import numpy as np\n",
    "from sympy import diff\n",
    "from sympy.abc import p\n",
    "import math\n",
    "import matplotlib.pyplot as plt\n",
    "\n",
    "\n",
    "F = (p ** (1/4) + 2) / (p ** (1/2) - 1)"
   ]
  },
  {
   "cell_type": "markdown",
   "id": "f4262df3",
   "metadata": {},
   "source": [
    "Функция вычисляющая W(f,t)"
   ]
  },
  {
   "cell_type": "code",
   "execution_count": 57,
   "id": "3cfac6e1",
   "metadata": {},
   "outputs": [],
   "source": [
    "cache_diff = [diff(F, p, 1)]\n",
    "def W(n, t: float):\n",
    "    if len(cache_diff) < n:\n",
    "        for i in range(n - len(cache_diff)):\n",
    "            cache_diff.append(diff(cache_diff[-1], p, 1))\n",
    "    differ = cache_diff[n - 1].evalf(subs={p: n / t})\n",
    "    return (-1)**(n % 2) * (n / t)**(n + 1)  * differ / math.factorial(n)"
   ]
  },
  {
   "cell_type": "markdown",
   "id": "bce110d0",
   "metadata": {},
   "source": [
    "Вычисление методом Виддера без ускорения сходимости и вывод количества итерация для получения точности epsilon = 0.001"
   ]
  },
  {
   "cell_type": "code",
   "execution_count": 58,
   "id": "3026517d",
   "metadata": {},
   "outputs": [
    {
     "name": "stdout",
     "output_type": "stream",
     "text": [
      "n = 80\n"
     ]
    }
   ],
   "source": [
    "n = 1\n",
    "t = 0.5\n",
    "epsilon = 0.001\n",
    "delta = None\n",
    "prev_num = W(n, t)\n",
    "\n",
    "while delta is None or delta > epsilon:\n",
    "    n += 1\n",
    "    new_num = W(n, t)\n",
    "    delta = abs(prev_num - new_num)\n",
    "    prev_num = new_num\n",
    "\n",
    "print(f\"n = {n}\")\n",
    "\n",
    "x_line = np.linspace(2, 3, 100)\n",
    "default_line = np.array([W(n, x) for x in x_line])"
   ]
  },
  {
   "cell_type": "markdown",
   "id": "68c099b7",
   "metadata": {},
   "source": [
    "Реализация метода Виддера с ускорением"
   ]
  },
  {
   "cell_type": "code",
   "execution_count": 59,
   "id": "39a47d79",
   "metadata": {},
   "outputs": [],
   "source": [
    "def W_boost(n, k, t):\n",
    "    test = [5 * i + 1 for i in range(k)]\n",
    "    D = sorted([rnd / n for rnd in test])\n",
    "    C = []\n",
    "\n",
    "    for j in range(k):\n",
    "        ans = 1\n",
    "        for i in range(n):\n",
    "            if i == j:\n",
    "                continue\n",
    "            ans *= D[j] / (D[j] - D[i])\n",
    "        C.append(ans)\n",
    "\n",
    "    ans = 0\n",
    "    for i in range(k):\n",
    "        ans += C[i] * W(int(n * D[i]), t)\n",
    "    return ans"
   ]
  },
  {
   "cell_type": "markdown",
   "id": "22202bd9",
   "metadata": {},
   "source": [
    "Вывод количества шагов для получения точности epsilon = 0.001"
   ]
  },
  {
   "cell_type": "code",
   "execution_count": 60,
   "id": "85109c10",
   "metadata": {},
   "outputs": [
    {
     "name": "stdout",
     "output_type": "stream",
     "text": [
      "n = 6\n"
     ]
    }
   ],
   "source": [
    "n_boost = 2\n",
    "t = 0.5\n",
    "delta_boost = None\n",
    "prev_num_boost = W_boost(n_boost, n_boost, t)\n",
    "\n",
    "while delta_boost is None or delta_boost > epsilon:\n",
    "    n_boost += 1\n",
    "    new_num = W_boost(n_boost, n_boost, t)\n",
    "    delta_boost = abs(prev_num_boost - new_num)\n",
    "    prev_num_boost = new_num\n",
    "\n",
    "boost_line = np.array([W_boost(n_boost, n_boost, x) for x in x_line])\n",
    "print(f\"n = {n_boost}\")"
   ]
  },
  {
   "cell_type": "markdown",
   "id": "55394a64",
   "metadata": {},
   "source": [
    "Вывод графиков для обоих методов"
   ]
  },
  {
   "cell_type": "code",
   "execution_count": 61,
   "id": "39a70aa0",
   "metadata": {},
   "outputs": [
    {
     "data": {
      "image/png": "[encoded data removed]",
      "text/plain": [
       "<Figure size 432x288 with 1 Axes>"
      ]
     },
     "metadata": {
      "needs_background": "light"
     },
     "output_type": "display_data"
    }
   ],
   "source": [
    "plt.plot(x_line, default_line, \"-\", label=\"Метод Виддера без ускорения\")\n",
    "plt.plot(x_line, boost_line, \"-.\", label=\"Метод Виддера с ускорением\")\n",
    "plt.legend()\n",
    "plt.show()"
   ]
  }
 ],
 "metadata": {
  "kernelspec": {
   "display_name": "Python 3",
   "language": "python",
   "name": "python3"
  },
  "language_info": {
   "codemirror_mode": {
    "name": "ipython",
    "version": 3
   },
   "file_extension": ".py",
   "mimetype": "text/x-python",
   "name": "python",
   "nbconvert_exporter": "python",
   "pygments_lexer": "ipython3",
   "version": "3.8.8"
  }
 },
 "nbformat": 4,
 "nbformat_minor": 5
}
